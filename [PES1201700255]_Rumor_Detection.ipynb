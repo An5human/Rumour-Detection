{
  "nbformat": 4,
  "nbformat_minor": 0,
  "metadata": {
    "colab": {
      "name": "[PES1201700255] Rumor Detection.ipynb",
      "provenance": [],
      "collapsed_sections": [
        "mJgQihpCeb3Z",
        "WeO1fOsperaz",
        "rEO9Xc92loXu",
        "VXEiiWZ1m-k9",
        "GpBKABeBoGBS",
        "mQTquObv3uX6",
        "xXWtCb1B3d9B",
        "q7qMkhTfA5Ny"
      ],
      "toc_visible": true
    },
    "kernelspec": {
      "name": "python3",
      "display_name": "Python 3"
    }
  },
  "cells": [
    {
      "cell_type": "markdown",
      "metadata": {
        "id": "xxTp1UP7wnYd",
        "colab_type": "text"
      },
      "source": [
        "# Rumor Detection"
      ]
    },
    {
      "cell_type": "markdown",
      "metadata": {
        "id": "mJgQihpCeb3Z",
        "colab_type": "text"
      },
      "source": [
        "## Importing Libraries\n"
      ]
    },
    {
      "cell_type": "code",
      "metadata": {
        "id": "idtBQZ1qdu0Q",
        "colab_type": "code",
        "outputId": "156fd364-f958-4815-f971-a6c2615c2787",
        "colab": {
          "base_uri": "https://localhost:8080/",
          "height": 1000
        }
      },
      "source": [
        "##importing the necessary libraries\n",
        "\n",
        "import pandas as pd\n",
        "import numpy as np\n",
        "\n",
        "import nltk\n",
        "nltk.download('all')\n",
        "\n",
        "from nltk.corpus import stopwords\n",
        "from nltk import wordnet\n",
        "from nltk.tokenize import word_tokenize\n",
        "from nltk.classify import MaxentClassifier\n",
        "from nltk.tokenize import RegexpTokenizer\n",
        "\n",
        "from gensim.models import Word2Vec\n",
        "\n",
        "from sklearn.decomposition import PCA\n",
        "from sklearn.manifold import TSNE\n",
        "from gensim.models.word2vec import Word2Vec\n",
        "import sklearn.feature_extraction.text as tv\n",
        "from sklearn.model_selection import train_test_split\n",
        "from sklearn.preprocessing import scale\n",
        "from sklearn import model_selection\n",
        "from sklearn import model_selection\n",
        "from sklearn.ensemble import VotingClassifier\n",
        "\n",
        "!pip install autocorrect\n",
        "import matplotlib.pyplot as plt\n",
        "from autocorrect import Speller\n",
        "import seaborn as sns\n",
        "\n",
        "from keras.models import Sequential, Model, load_model \n",
        "from keras import layers\n",
        "from keras.layers import Dense, Conv1D, MaxPooling1D, Flatten, Dropout, Input, Embedding, GlobalMaxPooling1D, SimpleRNN, Activation\n",
        "from keras.layers.merge import Concatenate\n",
        "from keras import backend as K\n",
        "from keras.callbacks import EarlyStopping, ModelCheckpoint\n",
        "\n",
        "import warnings\n",
        "warnings.filterwarnings(\"ignore\")\n",
        "\n",
        "from sklearn.metrics import precision_score,accuracy_score,f1_score,recall_score"
      ],
      "execution_count": 18,
      "outputs": [
        {
          "output_type": "stream",
          "text": [
            "[nltk_data] Downloading collection 'all'\n",
            "[nltk_data]    | \n",
            "[nltk_data]    | Downloading package abc to /root/nltk_data...\n",
            "[nltk_data]    |   Package abc is already up-to-date!\n",
            "[nltk_data]    | Downloading package alpino to /root/nltk_data...\n",
            "[nltk_data]    |   Package alpino is already up-to-date!\n",
            "[nltk_data]    | Downloading package biocreative_ppi to\n",
            "[nltk_data]    |     /root/nltk_data...\n",
            "[nltk_data]    |   Package biocreative_ppi is already up-to-date!\n",
            "[nltk_data]    | Downloading package brown to /root/nltk_data...\n",
            "[nltk_data]    |   Package brown is already up-to-date!\n",
            "[nltk_data]    | Downloading package brown_tei to /root/nltk_data...\n",
            "[nltk_data]    |   Package brown_tei is already up-to-date!\n",
            "[nltk_data]    | Downloading package cess_cat to /root/nltk_data...\n",
            "[nltk_data]    |   Package cess_cat is already up-to-date!\n",
            "[nltk_data]    | Downloading package cess_esp to /root/nltk_data...\n",
            "[nltk_data]    |   Package cess_esp is already up-to-date!\n",
            "[nltk_data]    | Downloading package chat80 to /root/nltk_data...\n",
            "[nltk_data]    |   Package chat80 is already up-to-date!\n",
            "[nltk_data]    | Downloading package city_database to\n",
            "[nltk_data]    |     /root/nltk_data...\n",
            "[nltk_data]    |   Package city_database is already up-to-date!\n",
            "[nltk_data]    | Downloading package cmudict to /root/nltk_data...\n",
            "[nltk_data]    |   Package cmudict is already up-to-date!\n",
            "[nltk_data]    | Downloading package comparative_sentences to\n",
            "[nltk_data]    |     /root/nltk_data...\n",
            "[nltk_data]    |   Package comparative_sentences is already up-to-\n",
            "[nltk_data]    |       date!\n",
            "[nltk_data]    | Downloading package comtrans to /root/nltk_data...\n",
            "[nltk_data]    |   Package comtrans is already up-to-date!\n",
            "[nltk_data]    | Downloading package conll2000 to /root/nltk_data...\n",
            "[nltk_data]    |   Package conll2000 is already up-to-date!\n",
            "[nltk_data]    | Downloading package conll2002 to /root/nltk_data...\n",
            "[nltk_data]    |   Package conll2002 is already up-to-date!\n",
            "[nltk_data]    | Downloading package conll2007 to /root/nltk_data...\n",
            "[nltk_data]    |   Package conll2007 is already up-to-date!\n",
            "[nltk_data]    | Downloading package crubadan to /root/nltk_data...\n",
            "[nltk_data]    |   Package crubadan is already up-to-date!\n",
            "[nltk_data]    | Downloading package dependency_treebank to\n",
            "[nltk_data]    |     /root/nltk_data...\n",
            "[nltk_data]    |   Package dependency_treebank is already up-to-date!\n",
            "[nltk_data]    | Downloading package dolch to /root/nltk_data...\n",
            "[nltk_data]    |   Package dolch is already up-to-date!\n",
            "[nltk_data]    | Downloading package europarl_raw to\n",
            "[nltk_data]    |     /root/nltk_data...\n",
            "[nltk_data]    |   Package europarl_raw is already up-to-date!\n",
            "[nltk_data]    | Downloading package floresta to /root/nltk_data...\n",
            "[nltk_data]    |   Package floresta is already up-to-date!\n",
            "[nltk_data]    | Downloading package framenet_v15 to\n",
            "[nltk_data]    |     /root/nltk_data...\n",
            "[nltk_data]    |   Package framenet_v15 is already up-to-date!\n",
            "[nltk_data]    | Downloading package framenet_v17 to\n",
            "[nltk_data]    |     /root/nltk_data...\n",
            "[nltk_data]    |   Package framenet_v17 is already up-to-date!\n",
            "[nltk_data]    | Downloading package gazetteers to /root/nltk_data...\n",
            "[nltk_data]    |   Package gazetteers is already up-to-date!\n",
            "[nltk_data]    | Downloading package genesis to /root/nltk_data...\n",
            "[nltk_data]    |   Package genesis is already up-to-date!\n",
            "[nltk_data]    | Downloading package gutenberg to /root/nltk_data...\n",
            "[nltk_data]    |   Package gutenberg is already up-to-date!\n",
            "[nltk_data]    | Downloading package ieer to /root/nltk_data...\n",
            "[nltk_data]    |   Package ieer is already up-to-date!\n",
            "[nltk_data]    | Downloading package inaugural to /root/nltk_data...\n",
            "[nltk_data]    |   Package inaugural is already up-to-date!\n",
            "[nltk_data]    | Downloading package indian to /root/nltk_data...\n",
            "[nltk_data]    |   Package indian is already up-to-date!\n",
            "[nltk_data]    | Downloading package jeita to /root/nltk_data...\n",
            "[nltk_data]    |   Package jeita is already up-to-date!\n",
            "[nltk_data]    | Downloading package kimmo to /root/nltk_data...\n",
            "[nltk_data]    |   Package kimmo is already up-to-date!\n",
            "[nltk_data]    | Downloading package knbc to /root/nltk_data...\n",
            "[nltk_data]    |   Package knbc is already up-to-date!\n",
            "[nltk_data]    | Downloading package lin_thesaurus to\n",
            "[nltk_data]    |     /root/nltk_data...\n",
            "[nltk_data]    |   Package lin_thesaurus is already up-to-date!\n",
            "[nltk_data]    | Downloading package mac_morpho to /root/nltk_data...\n",
            "[nltk_data]    |   Package mac_morpho is already up-to-date!\n",
            "[nltk_data]    | Downloading package machado to /root/nltk_data...\n",
            "[nltk_data]    |   Package machado is already up-to-date!\n",
            "[nltk_data]    | Downloading package masc_tagged to /root/nltk_data...\n",
            "[nltk_data]    |   Package masc_tagged is already up-to-date!\n",
            "[nltk_data]    | Downloading package moses_sample to\n",
            "[nltk_data]    |     /root/nltk_data...\n",
            "[nltk_data]    |   Package moses_sample is already up-to-date!\n",
            "[nltk_data]    | Downloading package movie_reviews to\n",
            "[nltk_data]    |     /root/nltk_data...\n",
            "[nltk_data]    |   Package movie_reviews is already up-to-date!\n",
            "[nltk_data]    | Downloading package names to /root/nltk_data...\n",
            "[nltk_data]    |   Package names is already up-to-date!\n",
            "[nltk_data]    | Downloading package nombank.1.0 to /root/nltk_data...\n",
            "[nltk_data]    |   Package nombank.1.0 is already up-to-date!\n",
            "[nltk_data]    | Downloading package nps_chat to /root/nltk_data...\n",
            "[nltk_data]    |   Package nps_chat is already up-to-date!\n",
            "[nltk_data]    | Downloading package omw to /root/nltk_data...\n",
            "[nltk_data]    |   Package omw is already up-to-date!\n",
            "[nltk_data]    | Downloading package opinion_lexicon to\n",
            "[nltk_data]    |     /root/nltk_data...\n",
            "[nltk_data]    |   Package opinion_lexicon is already up-to-date!\n",
            "[nltk_data]    | Downloading package paradigms to /root/nltk_data...\n",
            "[nltk_data]    |   Package paradigms is already up-to-date!\n",
            "[nltk_data]    | Downloading package pil to /root/nltk_data...\n",
            "[nltk_data]    |   Package pil is already up-to-date!\n",
            "[nltk_data]    | Downloading package pl196x to /root/nltk_data...\n",
            "[nltk_data]    |   Package pl196x is already up-to-date!\n",
            "[nltk_data]    | Downloading package ppattach to /root/nltk_data...\n",
            "[nltk_data]    |   Package ppattach is already up-to-date!\n",
            "[nltk_data]    | Downloading package problem_reports to\n",
            "[nltk_data]    |     /root/nltk_data...\n",
            "[nltk_data]    |   Package problem_reports is already up-to-date!\n",
            "[nltk_data]    | Downloading package propbank to /root/nltk_data...\n",
            "[nltk_data]    |   Package propbank is already up-to-date!\n",
            "[nltk_data]    | Downloading package ptb to /root/nltk_data...\n",
            "[nltk_data]    |   Package ptb is already up-to-date!\n",
            "[nltk_data]    | Downloading package product_reviews_1 to\n",
            "[nltk_data]    |     /root/nltk_data...\n",
            "[nltk_data]    |   Package product_reviews_1 is already up-to-date!\n",
            "[nltk_data]    | Downloading package product_reviews_2 to\n",
            "[nltk_data]    |     /root/nltk_data...\n",
            "[nltk_data]    |   Package product_reviews_2 is already up-to-date!\n",
            "[nltk_data]    | Downloading package pros_cons to /root/nltk_data...\n",
            "[nltk_data]    |   Package pros_cons is already up-to-date!\n",
            "[nltk_data]    | Downloading package qc to /root/nltk_data...\n",
            "[nltk_data]    |   Package qc is already up-to-date!\n",
            "[nltk_data]    | Downloading package reuters to /root/nltk_data...\n",
            "[nltk_data]    |   Package reuters is already up-to-date!\n",
            "[nltk_data]    | Downloading package rte to /root/nltk_data...\n",
            "[nltk_data]    |   Package rte is already up-to-date!\n",
            "[nltk_data]    | Downloading package semcor to /root/nltk_data...\n",
            "[nltk_data]    |   Package semcor is already up-to-date!\n",
            "[nltk_data]    | Downloading package senseval to /root/nltk_data...\n",
            "[nltk_data]    |   Package senseval is already up-to-date!\n",
            "[nltk_data]    | Downloading package sentiwordnet to\n",
            "[nltk_data]    |     /root/nltk_data...\n",
            "[nltk_data]    |   Package sentiwordnet is already up-to-date!\n",
            "[nltk_data]    | Downloading package sentence_polarity to\n",
            "[nltk_data]    |     /root/nltk_data...\n",
            "[nltk_data]    |   Package sentence_polarity is already up-to-date!\n",
            "[nltk_data]    | Downloading package shakespeare to /root/nltk_data...\n",
            "[nltk_data]    |   Package shakespeare is already up-to-date!\n",
            "[nltk_data]    | Downloading package sinica_treebank to\n",
            "[nltk_data]    |     /root/nltk_data...\n",
            "[nltk_data]    |   Package sinica_treebank is already up-to-date!\n",
            "[nltk_data]    | Downloading package smultron to /root/nltk_data...\n",
            "[nltk_data]    |   Package smultron is already up-to-date!\n",
            "[nltk_data]    | Downloading package state_union to /root/nltk_data...\n",
            "[nltk_data]    |   Package state_union is already up-to-date!\n",
            "[nltk_data]    | Downloading package stopwords to /root/nltk_data...\n",
            "[nltk_data]    |   Package stopwords is already up-to-date!\n",
            "[nltk_data]    | Downloading package subjectivity to\n",
            "[nltk_data]    |     /root/nltk_data...\n",
            "[nltk_data]    |   Package subjectivity is already up-to-date!\n",
            "[nltk_data]    | Downloading package swadesh to /root/nltk_data...\n",
            "[nltk_data]    |   Package swadesh is already up-to-date!\n",
            "[nltk_data]    | Downloading package switchboard to /root/nltk_data...\n",
            "[nltk_data]    |   Package switchboard is already up-to-date!\n",
            "[nltk_data]    | Downloading package timit to /root/nltk_data...\n",
            "[nltk_data]    |   Package timit is already up-to-date!\n",
            "[nltk_data]    | Downloading package toolbox to /root/nltk_data...\n",
            "[nltk_data]    |   Package toolbox is already up-to-date!\n",
            "[nltk_data]    | Downloading package treebank to /root/nltk_data...\n",
            "[nltk_data]    |   Package treebank is already up-to-date!\n",
            "[nltk_data]    | Downloading package twitter_samples to\n",
            "[nltk_data]    |     /root/nltk_data...\n",
            "[nltk_data]    |   Package twitter_samples is already up-to-date!\n",
            "[nltk_data]    | Downloading package udhr to /root/nltk_data...\n",
            "[nltk_data]    |   Package udhr is already up-to-date!\n",
            "[nltk_data]    | Downloading package udhr2 to /root/nltk_data...\n",
            "[nltk_data]    |   Package udhr2 is already up-to-date!\n",
            "[nltk_data]    | Downloading package unicode_samples to\n",
            "[nltk_data]    |     /root/nltk_data...\n",
            "[nltk_data]    |   Package unicode_samples is already up-to-date!\n",
            "[nltk_data]    | Downloading package universal_treebanks_v20 to\n",
            "[nltk_data]    |     /root/nltk_data...\n",
            "[nltk_data]    |   Package universal_treebanks_v20 is already up-to-\n",
            "[nltk_data]    |       date!\n",
            "[nltk_data]    | Downloading package verbnet to /root/nltk_data...\n",
            "[nltk_data]    |   Package verbnet is already up-to-date!\n",
            "[nltk_data]    | Downloading package verbnet3 to /root/nltk_data...\n",
            "[nltk_data]    |   Package verbnet3 is already up-to-date!\n",
            "[nltk_data]    | Downloading package webtext to /root/nltk_data...\n",
            "[nltk_data]    |   Package webtext is already up-to-date!\n",
            "[nltk_data]    | Downloading package wordnet to /root/nltk_data...\n",
            "[nltk_data]    |   Package wordnet is already up-to-date!\n",
            "[nltk_data]    | Downloading package wordnet_ic to /root/nltk_data...\n",
            "[nltk_data]    |   Package wordnet_ic is already up-to-date!\n",
            "[nltk_data]    | Downloading package words to /root/nltk_data...\n",
            "[nltk_data]    |   Package words is already up-to-date!\n",
            "[nltk_data]    | Downloading package ycoe to /root/nltk_data...\n",
            "[nltk_data]    |   Package ycoe is already up-to-date!\n",
            "[nltk_data]    | Downloading package rslp to /root/nltk_data...\n",
            "[nltk_data]    |   Package rslp is already up-to-date!\n",
            "[nltk_data]    | Downloading package maxent_treebank_pos_tagger to\n",
            "[nltk_data]    |     /root/nltk_data...\n",
            "[nltk_data]    |   Package maxent_treebank_pos_tagger is already up-\n",
            "[nltk_data]    |       to-date!\n",
            "[nltk_data]    | Downloading package universal_tagset to\n",
            "[nltk_data]    |     /root/nltk_data...\n",
            "[nltk_data]    |   Package universal_tagset is already up-to-date!\n",
            "[nltk_data]    | Downloading package maxent_ne_chunker to\n",
            "[nltk_data]    |     /root/nltk_data...\n",
            "[nltk_data]    |   Package maxent_ne_chunker is already up-to-date!\n",
            "[nltk_data]    | Downloading package punkt to /root/nltk_data...\n",
            "[nltk_data]    |   Package punkt is already up-to-date!\n",
            "[nltk_data]    | Downloading package book_grammars to\n",
            "[nltk_data]    |     /root/nltk_data...\n",
            "[nltk_data]    |   Package book_grammars is already up-to-date!\n",
            "[nltk_data]    | Downloading package sample_grammars to\n",
            "[nltk_data]    |     /root/nltk_data...\n",
            "[nltk_data]    |   Package sample_grammars is already up-to-date!\n",
            "[nltk_data]    | Downloading package spanish_grammars to\n",
            "[nltk_data]    |     /root/nltk_data...\n",
            "[nltk_data]    |   Package spanish_grammars is already up-to-date!\n",
            "[nltk_data]    | Downloading package basque_grammars to\n",
            "[nltk_data]    |     /root/nltk_data...\n",
            "[nltk_data]    |   Package basque_grammars is already up-to-date!\n",
            "[nltk_data]    | Downloading package large_grammars to\n",
            "[nltk_data]    |     /root/nltk_data...\n",
            "[nltk_data]    |   Package large_grammars is already up-to-date!\n",
            "[nltk_data]    | Downloading package tagsets to /root/nltk_data...\n",
            "[nltk_data]    |   Package tagsets is already up-to-date!\n",
            "[nltk_data]    | Downloading package snowball_data to\n",
            "[nltk_data]    |     /root/nltk_data...\n",
            "[nltk_data]    |   Package snowball_data is already up-to-date!\n",
            "[nltk_data]    | Downloading package bllip_wsj_no_aux to\n",
            "[nltk_data]    |     /root/nltk_data...\n",
            "[nltk_data]    |   Package bllip_wsj_no_aux is already up-to-date!\n",
            "[nltk_data]    | Downloading package word2vec_sample to\n",
            "[nltk_data]    |     /root/nltk_data...\n",
            "[nltk_data]    |   Package word2vec_sample is already up-to-date!\n",
            "[nltk_data]    | Downloading package panlex_swadesh to\n",
            "[nltk_data]    |     /root/nltk_data...\n",
            "[nltk_data]    |   Package panlex_swadesh is already up-to-date!\n",
            "[nltk_data]    | Downloading package mte_teip5 to /root/nltk_data...\n",
            "[nltk_data]    |   Package mte_teip5 is already up-to-date!\n",
            "[nltk_data]    | Downloading package averaged_perceptron_tagger to\n",
            "[nltk_data]    |     /root/nltk_data...\n",
            "[nltk_data]    |   Package averaged_perceptron_tagger is already up-\n",
            "[nltk_data]    |       to-date!\n",
            "[nltk_data]    | Downloading package averaged_perceptron_tagger_ru to\n",
            "[nltk_data]    |     /root/nltk_data...\n",
            "[nltk_data]    |   Package averaged_perceptron_tagger_ru is already\n",
            "[nltk_data]    |       up-to-date!\n",
            "[nltk_data]    | Downloading package perluniprops to\n",
            "[nltk_data]    |     /root/nltk_data...\n",
            "[nltk_data]    |   Package perluniprops is already up-to-date!\n",
            "[nltk_data]    | Downloading package nonbreaking_prefixes to\n",
            "[nltk_data]    |     /root/nltk_data...\n",
            "[nltk_data]    |   Package nonbreaking_prefixes is already up-to-date!\n",
            "[nltk_data]    | Downloading package vader_lexicon to\n",
            "[nltk_data]    |     /root/nltk_data...\n",
            "[nltk_data]    |   Package vader_lexicon is already up-to-date!\n",
            "[nltk_data]    | Downloading package porter_test to /root/nltk_data...\n",
            "[nltk_data]    |   Package porter_test is already up-to-date!\n",
            "[nltk_data]    | Downloading package wmt15_eval to /root/nltk_data...\n",
            "[nltk_data]    |   Package wmt15_eval is already up-to-date!\n",
            "[nltk_data]    | Downloading package mwa_ppdb to /root/nltk_data...\n",
            "[nltk_data]    |   Package mwa_ppdb is already up-to-date!\n",
            "[nltk_data]    | \n",
            "[nltk_data]  Done downloading collection all\n",
            "Requirement already satisfied: autocorrect in /usr/local/lib/python3.6/dist-packages (1.1.0)\n"
          ],
          "name": "stdout"
        }
      ]
    },
    {
      "cell_type": "markdown",
      "metadata": {
        "id": "WeO1fOsperaz",
        "colab_type": "text"
      },
      "source": [
        "## Defining Constant Variables"
      ]
    },
    {
      "cell_type": "code",
      "metadata": {
        "id": "Dm7BY1etelA_",
        "colab_type": "code",
        "colab": {}
      },
      "source": [
        "puntuation = \"+-@#$%^&*()\\\"'...,/:;+_<>=-\"\n",
        "tokenizer = RegexpTokenizer(r'\\w+')\n",
        "stop_words = set(stopwords.words('english'))\n",
        "lemma = wordnet.WordNetLemmatizer()\n",
        "stop_words.remove(\"not\")\n",
        "stop_words.remove(\"no\")\n",
        "spell = Speller(lang='en')"
      ],
      "execution_count": 0,
      "outputs": []
    },
    {
      "cell_type": "markdown",
      "metadata": {
        "id": "rEO9Xc92loXu",
        "colab_type": "text"
      },
      "source": [
        "## Loading the Data"
      ]
    },
    {
      "cell_type": "code",
      "metadata": {
        "id": "ni_MJ4EIe00P",
        "colab_type": "code",
        "colab": {}
      },
      "source": [
        "#Loading the Processed Data\n",
        "pheme = pd.read_csv(\"/content/drive/My Drive/NLP Project/pheme-rumor-dataset.csv\")\n",
        "\n",
        "pheme[\"in_reply_to_status_id\"] = pheme[\"in_reply_to_status_id\"].fillna(0)\n",
        "pheme = pheme.astype({\"in_reply_to_status_id\": 'int64'})\n",
        "\n",
        "## The Original Tweet ##\n",
        "source = pheme[pheme[\"tweet_type\"]==\"source-tweet\"]\n",
        "## Reactions to that Tweet ##\n",
        "reaction = pheme[pheme[\"tweet_type\"]==\"reactions\"]"
      ],
      "execution_count": 0,
      "outputs": []
    },
    {
      "cell_type": "markdown",
      "metadata": {
        "id": "VXEiiWZ1m-k9",
        "colab_type": "text"
      },
      "source": [
        "## Vectorizing the Tweets"
      ]
    },
    {
      "cell_type": "code",
      "metadata": {
        "id": "Q9939_mWfkV6",
        "colab_type": "code",
        "colab": {}
      },
      "source": [
        "#### Processing the tweet #####\n",
        "tweets = pheme[\"text\"]\n",
        "sents = []\n",
        "for tweet in tweets:\n",
        "    words = tokenizer.tokenize(tweet)\n",
        "    words = [lemma.lemmatize(word) for word in words if word not in puntuation and word not in stop_words and \"http\" not in word and not word.startswith('/')]\n",
        "    words = list(set(words))\n",
        "    sents.append(words)\n",
        "\n",
        "#### Model training on entire words set ###\n",
        "model = Word2Vec(sents)"
      ],
      "execution_count": 0,
      "outputs": []
    },
    {
      "cell_type": "code",
      "metadata": {
        "id": "cvNw27jzhQvb",
        "colab_type": "code",
        "colab": {}
      },
      "source": [
        "### Vectorizing function\n",
        "def buildWordVector(tweet, size):\n",
        "    \"\"\"Building vector for a given list of token using the Word2vec model.\"\"\"\n",
        "    #initialising the vector\n",
        "    vec = np.zeros(size)\n",
        "    count = 0.\n",
        "    for word in tweet:\n",
        "        #using model to construct the vector\n",
        "        try:\n",
        "            vec += model[spell(word)] * tfidf[spell(word)]\n",
        "            count += 1.\n",
        "        except:\n",
        "            pass\n",
        "    if count != 0:\n",
        "        vec /= count\n",
        "    return vec\n",
        "\n",
        "### Process the source of Rumours ###\n",
        "train = []\n",
        "\n",
        "for _,tweets in source.iterrows():\n",
        "    _treaction = reaction[reaction[\"in_reply_to_status_id\"] == tweets[\"id_str\"]]\n",
        "    _ttweet = list(_treaction[\"text\"])\n",
        "    _ttweet = \" \".join(_ttweet)\n",
        "    tweet = tweets[\"text\"] + \" \" + _ttweet\n",
        "    words = tokenizer.tokenize(tweet)\n",
        "    words = [lemma.lemmatize(word) for word in words if word not in puntuation and word not in stop_words and \"http\" not in word and not word.startswith('/')]\n",
        "    words = list(set(words))\n",
        "    train.append(words)\n",
        "\n",
        "y = [1 if label == \"rumours\" else 0 for label in source['label']]\n",
        "X = np.array(train)\n",
        "\n",
        "X_train, X_test, y_train, y_test = train_test_split(X, y, test_size = 0.2, random_state = 0)\n",
        "\n",
        "####  Vectorizing the tweets  ####\n",
        "vectorizer = tv.TfidfVectorizer(analyzer=lambda x: x, min_df=10)\n",
        "matrix = vectorizer.fit_transform([x for x in X_train])\n",
        "tfidf = dict(zip(vectorizer.get_feature_names(), vectorizer.idf_))"
      ],
      "execution_count": 0,
      "outputs": []
    },
    {
      "cell_type": "markdown",
      "metadata": {
        "id": "wAIeWv67ujGm",
        "colab_type": "text"
      },
      "source": [
        "### <font color=red>Warning: </font>\n",
        "It takes about 8 hours to train this model. Please use the saved model vectors."
      ]
    },
    {
      "cell_type": "code",
      "metadata": {
        "id": "TRnE76V2kHeT",
        "colab_type": "code",
        "colab": {
          "base_uri": "https://localhost:8080/",
          "height": 51
        },
        "outputId": "1d755b22-4b2a-41d5-8400-da7b64f9dade"
      },
      "source": [
        "### Model Training\n",
        "train_vecs = np.concatenate([buildWordVector(z, 100) for z in map(lambda x: x, X_train)])\n",
        "train_vecs = scale(train_vecs)\n",
        "test_vecs = np.concatenate([buildWordVector(z, 100) for z in map(lambda x: x, X_test)])\n",
        "test_vecs = scale(test_vecs)\n",
        "\n",
        "### Saving the vectors\n",
        "np.save(\"train.npy\",train_vecs)\n",
        "np.save(\"test.npy\",test_vecs)"
      ],
      "execution_count": 0,
      "outputs": [
        {
          "output_type": "stream",
          "text": [
            "/usr/local/lib/python3.6/dist-packages/ipykernel_launcher.py:9: DeprecationWarning: Call to deprecated `__getitem__` (Method will be removed in 4.0.0, use self.wv.__getitem__() instead).\n",
            "  if __name__ == '__main__':\n"
          ],
          "name": "stderr"
        }
      ]
    },
    {
      "cell_type": "code",
      "metadata": {
        "id": "Jx9SYlXMkHZE",
        "colab_type": "code",
        "colab": {}
      },
      "source": [
        "### Loading Trained Models ####\n",
        "train_vecs = np.load(\"train_final.npy\")\n",
        "test_vecs = np.load(\"test_final.npy\")"
      ],
      "execution_count": 0,
      "outputs": []
    },
    {
      "cell_type": "markdown",
      "metadata": {
        "id": "GpBKABeBoGBS",
        "colab_type": "text"
      },
      "source": [
        "## Text Model Training"
      ]
    },
    {
      "cell_type": "code",
      "metadata": {
        "id": "Hmy4-JorkHX-",
        "colab_type": "code",
        "outputId": "4400c47a-c426-44d9-bf97-2afae0f13458",
        "colab": {
          "base_uri": "https://localhost:8080/",
          "height": 1000
        }
      },
      "source": [
        "#### Twitter Tweets Model  #####\n",
        "model_text = Sequential()\n",
        "\n",
        "model_text.add(Dense(500, activation='relu', input_dim=100))\n",
        "model_text.add(Dropout(0.7))\n",
        "model_text.add(Dense(350, activation='relu'))\n",
        "model_text.add(Dropout(0.7))\n",
        "model_text.add(Dense(245, activation='relu'))\n",
        "model_text.add(Dropout(0.6))\n",
        "model_text.add(Dense(175, activation='tanh'))\n",
        "model_text.add(Dropout(0.5))\n",
        "model_text.add(Dense(75, activation='tanh'))\n",
        "model_text.add(Dropout(0.5))\n",
        "model_text.add(Dense(30, activation='tanh'))\n",
        "model_text.add(Dropout(0.4))\n",
        "model_text.add(Dense(1, activation='sigmoid'))\n",
        "model_text.compile(optimizer='adam',\n",
        "              loss='binary_crossentropy',\n",
        "              metrics=['accuracy'])\n",
        "model_text.summary()\n",
        "\n",
        "\n",
        "## Training the model\n",
        "history = model_text.fit(train_vecs, y_train, epochs=64, batch_size=128,validation_data=(test_vecs,y_test))\n",
        "loss, accuracy = model_text.evaluate(train_vecs, y_train, verbose=False)\n",
        "print(\"Training Accuracy: {:.4f}\".format(accuracy))\n",
        "loss, accuracy = model_text.evaluate(test_vecs, y_test, verbose=False)\n",
        "print(\"Testing Accuracy:  {:.4f}\".format(accuracy))"
      ],
      "execution_count": 8,
      "outputs": [
        {
          "output_type": "stream",
          "text": [
            "Model: \"sequential_1\"\n",
            "_________________________________________________________________\n",
            "Layer (type)                 Output Shape              Param #   \n",
            "=================================================================\n",
            "dense_1 (Dense)              (None, 500)               50500     \n",
            "_________________________________________________________________\n",
            "dropout_1 (Dropout)          (None, 500)               0         \n",
            "_________________________________________________________________\n",
            "dense_2 (Dense)              (None, 350)               175350    \n",
            "_________________________________________________________________\n",
            "dropout_2 (Dropout)          (None, 350)               0         \n",
            "_________________________________________________________________\n",
            "dense_3 (Dense)              (None, 245)               85995     \n",
            "_________________________________________________________________\n",
            "dropout_3 (Dropout)          (None, 245)               0         \n",
            "_________________________________________________________________\n",
            "dense_4 (Dense)              (None, 175)               43050     \n",
            "_________________________________________________________________\n",
            "dropout_4 (Dropout)          (None, 175)               0         \n",
            "_________________________________________________________________\n",
            "dense_5 (Dense)              (None, 75)                13200     \n",
            "_________________________________________________________________\n",
            "dropout_5 (Dropout)          (None, 75)                0         \n",
            "_________________________________________________________________\n",
            "dense_6 (Dense)              (None, 30)                2280      \n",
            "_________________________________________________________________\n",
            "dropout_6 (Dropout)          (None, 30)                0         \n",
            "_________________________________________________________________\n",
            "dense_7 (Dense)              (None, 1)                 31        \n",
            "=================================================================\n",
            "Total params: 370,406\n",
            "Trainable params: 370,406\n",
            "Non-trainable params: 0\n",
            "_________________________________________________________________\n",
            "Train on 4641 samples, validate on 1161 samples\n",
            "Epoch 1/64\n",
            "4641/4641 [==============================] - 1s 212us/step - loss: 0.7219 - accuracy: 0.5848 - val_loss: 0.6040 - val_accuracy: 0.6606\n",
            "Epoch 2/64\n",
            "4641/4641 [==============================] - 1s 131us/step - loss: 0.6722 - accuracy: 0.6279 - val_loss: 0.6136 - val_accuracy: 0.7166\n",
            "Epoch 3/64\n",
            "4641/4641 [==============================] - 1s 129us/step - loss: 0.6567 - accuracy: 0.6466 - val_loss: 0.6292 - val_accuracy: 0.7123\n",
            "Epoch 4/64\n",
            "4641/4641 [==============================] - 1s 131us/step - loss: 0.6498 - accuracy: 0.6587 - val_loss: 0.6450 - val_accuracy: 0.7028\n",
            "Epoch 5/64\n",
            "4641/4641 [==============================] - 1s 132us/step - loss: 0.6275 - accuracy: 0.6699 - val_loss: 0.5991 - val_accuracy: 0.7192\n",
            "Epoch 6/64\n",
            "4641/4641 [==============================] - 1s 130us/step - loss: 0.6199 - accuracy: 0.6751 - val_loss: 0.6237 - val_accuracy: 0.7149\n",
            "Epoch 7/64\n",
            "4641/4641 [==============================] - 1s 133us/step - loss: 0.6233 - accuracy: 0.6761 - val_loss: 0.6195 - val_accuracy: 0.7252\n",
            "Epoch 8/64\n",
            "4641/4641 [==============================] - 1s 127us/step - loss: 0.6021 - accuracy: 0.6986 - val_loss: 0.6179 - val_accuracy: 0.7227\n",
            "Epoch 9/64\n",
            "4641/4641 [==============================] - 1s 133us/step - loss: 0.5889 - accuracy: 0.7016 - val_loss: 0.6045 - val_accuracy: 0.7347\n",
            "Epoch 10/64\n",
            "4641/4641 [==============================] - 1s 131us/step - loss: 0.5843 - accuracy: 0.7061 - val_loss: 0.6001 - val_accuracy: 0.7313\n",
            "Epoch 11/64\n",
            "4641/4641 [==============================] - 1s 134us/step - loss: 0.5780 - accuracy: 0.7067 - val_loss: 0.5984 - val_accuracy: 0.7399\n",
            "Epoch 12/64\n",
            "4641/4641 [==============================] - 1s 131us/step - loss: 0.5699 - accuracy: 0.7223 - val_loss: 0.6063 - val_accuracy: 0.7270\n",
            "Epoch 13/64\n",
            "4641/4641 [==============================] - 1s 127us/step - loss: 0.5660 - accuracy: 0.7255 - val_loss: 0.5923 - val_accuracy: 0.7304\n",
            "Epoch 14/64\n",
            "4641/4641 [==============================] - 1s 131us/step - loss: 0.5609 - accuracy: 0.7246 - val_loss: 0.5848 - val_accuracy: 0.7356\n",
            "Epoch 15/64\n",
            "4641/4641 [==============================] - 1s 130us/step - loss: 0.5623 - accuracy: 0.7253 - val_loss: 0.5793 - val_accuracy: 0.7416\n",
            "Epoch 16/64\n",
            "4641/4641 [==============================] - 1s 130us/step - loss: 0.5544 - accuracy: 0.7285 - val_loss: 0.5739 - val_accuracy: 0.7373\n",
            "Epoch 17/64\n",
            "4641/4641 [==============================] - 1s 132us/step - loss: 0.5521 - accuracy: 0.7395 - val_loss: 0.5821 - val_accuracy: 0.7399\n",
            "Epoch 18/64\n",
            "4641/4641 [==============================] - 1s 131us/step - loss: 0.5407 - accuracy: 0.7410 - val_loss: 0.5732 - val_accuracy: 0.7407\n",
            "Epoch 19/64\n",
            "4641/4641 [==============================] - 1s 132us/step - loss: 0.5469 - accuracy: 0.7442 - val_loss: 0.5628 - val_accuracy: 0.7459\n",
            "Epoch 20/64\n",
            "4641/4641 [==============================] - 1s 127us/step - loss: 0.5469 - accuracy: 0.7373 - val_loss: 0.5689 - val_accuracy: 0.7399\n",
            "Epoch 21/64\n",
            "4641/4641 [==============================] - 1s 133us/step - loss: 0.5425 - accuracy: 0.7373 - val_loss: 0.5684 - val_accuracy: 0.7433\n",
            "Epoch 22/64\n",
            "4641/4641 [==============================] - 1s 134us/step - loss: 0.5431 - accuracy: 0.7462 - val_loss: 0.5663 - val_accuracy: 0.7450\n",
            "Epoch 23/64\n",
            "4641/4641 [==============================] - 1s 128us/step - loss: 0.5412 - accuracy: 0.7485 - val_loss: 0.5564 - val_accuracy: 0.7442\n",
            "Epoch 24/64\n",
            "4641/4641 [==============================] - 1s 133us/step - loss: 0.5348 - accuracy: 0.7412 - val_loss: 0.5643 - val_accuracy: 0.7433\n",
            "Epoch 25/64\n",
            "4641/4641 [==============================] - 1s 130us/step - loss: 0.5430 - accuracy: 0.7423 - val_loss: 0.5482 - val_accuracy: 0.7494\n",
            "Epoch 26/64\n",
            "4641/4641 [==============================] - 1s 133us/step - loss: 0.5340 - accuracy: 0.7434 - val_loss: 0.5505 - val_accuracy: 0.7476\n",
            "Epoch 27/64\n",
            "4641/4641 [==============================] - 1s 130us/step - loss: 0.5348 - accuracy: 0.7408 - val_loss: 0.5505 - val_accuracy: 0.7485\n",
            "Epoch 28/64\n",
            "4641/4641 [==============================] - 1s 127us/step - loss: 0.5280 - accuracy: 0.7503 - val_loss: 0.5617 - val_accuracy: 0.7407\n",
            "Epoch 29/64\n",
            "4641/4641 [==============================] - 1s 136us/step - loss: 0.5290 - accuracy: 0.7442 - val_loss: 0.5422 - val_accuracy: 0.7485\n",
            "Epoch 30/64\n",
            "4641/4641 [==============================] - 1s 127us/step - loss: 0.5272 - accuracy: 0.7490 - val_loss: 0.5537 - val_accuracy: 0.7519\n",
            "Epoch 31/64\n",
            "4641/4641 [==============================] - 1s 129us/step - loss: 0.5229 - accuracy: 0.7513 - val_loss: 0.5526 - val_accuracy: 0.7450\n",
            "Epoch 32/64\n",
            "4641/4641 [==============================] - 1s 129us/step - loss: 0.5208 - accuracy: 0.7535 - val_loss: 0.5309 - val_accuracy: 0.7468\n",
            "Epoch 33/64\n",
            "4641/4641 [==============================] - 1s 128us/step - loss: 0.5263 - accuracy: 0.7466 - val_loss: 0.5393 - val_accuracy: 0.7528\n",
            "Epoch 34/64\n",
            "4641/4641 [==============================] - 1s 132us/step - loss: 0.5277 - accuracy: 0.7466 - val_loss: 0.5417 - val_accuracy: 0.7468\n",
            "Epoch 35/64\n",
            "4641/4641 [==============================] - 1s 128us/step - loss: 0.5207 - accuracy: 0.7513 - val_loss: 0.5336 - val_accuracy: 0.7562\n",
            "Epoch 36/64\n",
            "4641/4641 [==============================] - 1s 134us/step - loss: 0.5213 - accuracy: 0.7550 - val_loss: 0.5292 - val_accuracy: 0.7580\n",
            "Epoch 37/64\n",
            "4641/4641 [==============================] - 1s 132us/step - loss: 0.5202 - accuracy: 0.7475 - val_loss: 0.5313 - val_accuracy: 0.7485\n",
            "Epoch 38/64\n",
            "4641/4641 [==============================] - 1s 129us/step - loss: 0.5239 - accuracy: 0.7498 - val_loss: 0.5220 - val_accuracy: 0.7571\n",
            "Epoch 39/64\n",
            "4641/4641 [==============================] - 1s 127us/step - loss: 0.5182 - accuracy: 0.7587 - val_loss: 0.5181 - val_accuracy: 0.7562\n",
            "Epoch 40/64\n",
            "4641/4641 [==============================] - 1s 128us/step - loss: 0.5207 - accuracy: 0.7546 - val_loss: 0.5270 - val_accuracy: 0.7597\n",
            "Epoch 41/64\n",
            "4641/4641 [==============================] - 1s 133us/step - loss: 0.5195 - accuracy: 0.7546 - val_loss: 0.5257 - val_accuracy: 0.7571\n",
            "Epoch 42/64\n",
            "4641/4641 [==============================] - 1s 130us/step - loss: 0.5156 - accuracy: 0.7522 - val_loss: 0.5277 - val_accuracy: 0.7528\n",
            "Epoch 43/64\n",
            "4641/4641 [==============================] - 1s 128us/step - loss: 0.5106 - accuracy: 0.7576 - val_loss: 0.5293 - val_accuracy: 0.7580\n",
            "Epoch 44/64\n",
            "4641/4641 [==============================] - 1s 132us/step - loss: 0.5161 - accuracy: 0.7535 - val_loss: 0.5134 - val_accuracy: 0.7588\n",
            "Epoch 45/64\n",
            "4641/4641 [==============================] - 1s 127us/step - loss: 0.5028 - accuracy: 0.7649 - val_loss: 0.5274 - val_accuracy: 0.7597\n",
            "Epoch 46/64\n",
            "4641/4641 [==============================] - 1s 133us/step - loss: 0.5166 - accuracy: 0.7550 - val_loss: 0.5125 - val_accuracy: 0.7588\n",
            "Epoch 47/64\n",
            "4641/4641 [==============================] - 1s 129us/step - loss: 0.5087 - accuracy: 0.7563 - val_loss: 0.5256 - val_accuracy: 0.7562\n",
            "Epoch 48/64\n",
            "4641/4641 [==============================] - 1s 129us/step - loss: 0.5090 - accuracy: 0.7610 - val_loss: 0.5115 - val_accuracy: 0.7494\n",
            "Epoch 49/64\n",
            "4641/4641 [==============================] - 1s 129us/step - loss: 0.5215 - accuracy: 0.7516 - val_loss: 0.5132 - val_accuracy: 0.7571\n",
            "Epoch 50/64\n",
            "4641/4641 [==============================] - 1s 128us/step - loss: 0.5088 - accuracy: 0.7634 - val_loss: 0.5166 - val_accuracy: 0.7519\n",
            "Epoch 51/64\n",
            "4641/4641 [==============================] - 1s 132us/step - loss: 0.5053 - accuracy: 0.7623 - val_loss: 0.5164 - val_accuracy: 0.7597\n",
            "Epoch 52/64\n",
            "4641/4641 [==============================] - 1s 130us/step - loss: 0.5145 - accuracy: 0.7593 - val_loss: 0.5277 - val_accuracy: 0.7537\n",
            "Epoch 53/64\n",
            "4641/4641 [==============================] - 1s 130us/step - loss: 0.5092 - accuracy: 0.7598 - val_loss: 0.5076 - val_accuracy: 0.7614\n",
            "Epoch 54/64\n",
            "4641/4641 [==============================] - 1s 128us/step - loss: 0.5086 - accuracy: 0.7626 - val_loss: 0.5174 - val_accuracy: 0.7562\n",
            "Epoch 55/64\n",
            "4641/4641 [==============================] - 1s 125us/step - loss: 0.5037 - accuracy: 0.7576 - val_loss: 0.5137 - val_accuracy: 0.7511\n",
            "Epoch 56/64\n",
            "4641/4641 [==============================] - 1s 130us/step - loss: 0.5060 - accuracy: 0.7589 - val_loss: 0.5124 - val_accuracy: 0.7597\n",
            "Epoch 57/64\n",
            "4641/4641 [==============================] - 1s 127us/step - loss: 0.5035 - accuracy: 0.7634 - val_loss: 0.5099 - val_accuracy: 0.7562\n",
            "Epoch 58/64\n",
            "4641/4641 [==============================] - 1s 132us/step - loss: 0.5101 - accuracy: 0.7595 - val_loss: 0.5143 - val_accuracy: 0.7545\n",
            "Epoch 59/64\n",
            "4641/4641 [==============================] - 1s 131us/step - loss: 0.5043 - accuracy: 0.7656 - val_loss: 0.5081 - val_accuracy: 0.7562\n",
            "Epoch 60/64\n",
            "4641/4641 [==============================] - 1s 128us/step - loss: 0.5070 - accuracy: 0.7647 - val_loss: 0.5124 - val_accuracy: 0.7537\n",
            "Epoch 61/64\n",
            "4641/4641 [==============================] - 1s 128us/step - loss: 0.5050 - accuracy: 0.7574 - val_loss: 0.5241 - val_accuracy: 0.7588\n",
            "Epoch 62/64\n",
            "4641/4641 [==============================] - 1s 128us/step - loss: 0.5115 - accuracy: 0.7589 - val_loss: 0.5072 - val_accuracy: 0.7674\n",
            "Epoch 63/64\n",
            "4641/4641 [==============================] - 1s 131us/step - loss: 0.5032 - accuracy: 0.7686 - val_loss: 0.5169 - val_accuracy: 0.7511\n",
            "Epoch 64/64\n",
            "4641/4641 [==============================] - 1s 135us/step - loss: 0.5053 - accuracy: 0.7602 - val_loss: 0.5114 - val_accuracy: 0.7571\n",
            "Training Accuracy: 0.7781\n",
            "Testing Accuracy:  0.7571\n"
          ],
          "name": "stdout"
        }
      ]
    },
    {
      "cell_type": "markdown",
      "metadata": {
        "id": "eH-6RjeX3BxR",
        "colab_type": "text"
      },
      "source": [
        "### Plotting the Accuracy of the Text Model"
      ]
    },
    {
      "cell_type": "code",
      "metadata": {
        "id": "u0pf1Iir20y8",
        "colab_type": "code",
        "outputId": "d01179d0-fc52-4462-ca4c-a1ba4298a88a",
        "colab": {
          "base_uri": "https://localhost:8080/",
          "height": 336
        }
      },
      "source": [
        "def plot_history(history):\n",
        "    acc = history.history['accuracy']\n",
        "    val_acc = history.history['val_accuracy']\n",
        "    loss = history.history['loss']\n",
        "    val_loss = history.history['val_loss']\n",
        "    x = range(1, len(acc) + 1)\n",
        "\n",
        "    plt.figure(figsize=(12, 5))\n",
        "    plt.subplot(1, 2, 1)\n",
        "    plt.plot(x, acc, 'b', label='Training acc')\n",
        "    plt.plot(x, val_acc, 'r', label='Validation acc')\n",
        "    plt.title('Training and validation accuracy')\n",
        "    plt.legend()\n",
        "    plt.subplot(1, 2, 2)\n",
        "    plt.plot(x, loss, 'b', label='Training loss')\n",
        "    plt.plot(x, val_loss, 'r', label='Validation loss')\n",
        "    plt.title('Training and validation loss')\n",
        "    plt.legend()\n",
        "plot_history(history)"
      ],
      "execution_count": 8,
      "outputs": [
        {
          "output_type": "display_data",
          "data": {
            "image/png": "[encoded data removed]",
            "text/plain": [
              "<Figure size 864x360 with 2 Axes>"
            ]
          },
          "metadata": {
            "tags": [],
            "needs_background": "light"
          }
        }
      ]
    },
    {
      "cell_type": "markdown",
      "metadata": {
        "id": "mQTquObv3uX6",
        "colab_type": "text"
      },
      "source": [
        "## Feature Extraction and Modulation"
      ]
    },
    {
      "cell_type": "code",
      "metadata": {
        "id": "Z_9UMsrq7QLR",
        "colab_type": "code",
        "colab": {}
      },
      "source": [
        "### No of reaction to Source ###\n",
        "no_of_reaction = []\n",
        "for _ ,tweets in source.iterrows():\n",
        "    temp_reaction = reaction[reaction[\"in_reply_to_status_id\"] == tweets[\"id_str\"]]\n",
        "    no = len(list(temp_reaction[\"id_str\"]))\n",
        "    no_of_reaction.append(no)"
      ],
      "execution_count": 0,
      "outputs": []
    },
    {
      "cell_type": "code",
      "metadata": {
        "id": "m4GhN9dj9szm",
        "colab_type": "code",
        "colab": {}
      },
      "source": [
        "no_of_doubt_punt = []\n",
        "for _,tweets in source.iterrows():\n",
        "    _treaction = reaction[reaction[\"in_reply_to_status_id\"] == tweets[\"id_str\"]]\n",
        "    _ttweet = list(_treaction[\"text\"])\n",
        "    _ttweet = \" \".join(_ttweet)\n",
        "    tweet = tweets[\"text\"] + \" \" + _ttweet\n",
        "    words = word_tokenize(tweet)\n",
        "    _tcount = [1 for i in words if i == '?' or i == '!']\n",
        "    no_of_doubt_punt.append(len(_tcount))"
      ],
      "execution_count": 0,
      "outputs": []
    },
    {
      "cell_type": "code",
      "metadata": {
        "id": "7IZsL4H03v_Y",
        "colab_type": "code",
        "colab": {}
      },
      "source": [
        "veri = [0 if i==False else 1 for i in source[\"user_verified\"]]\n",
        "ufolcount = list(source[\"user_followers_count\"])\n",
        "ufricount = list(source[\"user_friends_count\"])\n",
        "favcount = list(source[\"favorite_count\"])\n",
        "tran = [0 if i==False else 1 for i in source[\"user_is_translator\"]]\n",
        "rtcount = list(source[\"retweet_count\"])"
      ],
      "execution_count": 0,
      "outputs": []
    },
    {
      "cell_type": "code",
      "metadata": {
        "id": "7IR3h4gw3vjV",
        "colab_type": "code",
        "colab": {}
      },
      "source": [
        "_fX = [veri,ufolcount,ufricount,favcount,tran,rtcount,no_of_reaction,no_of_doubt_punt]\n",
        "fX = np.array(_fX).T\n",
        "fy = [1 if label == \"rumours\" else 0 for label in source['label']]"
      ],
      "execution_count": 0,
      "outputs": []
    },
    {
      "cell_type": "code",
      "metadata": {
        "id": "uloe_DR28GVt",
        "colab_type": "code",
        "colab": {}
      },
      "source": [
        "### Spliting the data using the same distribution used in text model.\n",
        "fX_train, fX_test, fy_train, fy_test = train_test_split(fX, fy, test_size = 0.2, random_state = 0)"
      ],
      "execution_count": 0,
      "outputs": []
    },
    {
      "cell_type": "markdown",
      "metadata": {
        "id": "xXWtCb1B3d9B",
        "colab_type": "text"
      },
      "source": [
        "## Feature Model Training"
      ]
    },
    {
      "cell_type": "code",
      "metadata": {
        "id": "lZGXkr7ckHTl",
        "colab_type": "code",
        "outputId": "b239e693-c297-470b-a407-684d5c3e68b3",
        "colab": {
          "base_uri": "https://localhost:8080/",
          "height": 1000
        }
      },
      "source": [
        "#### Tweeter Details Model #####\n",
        "\n",
        "fmodel = Sequential()\n",
        "\n",
        "fmodel.add(Dense(20, activation='relu', input_dim=8))\n",
        "fmodel.add(Dense(15, activation='relu'))\n",
        "fmodel.add(Dense(7, activation='relu'))\n",
        "fmodel.add(Dense(1, activation='sigmoid'))\n",
        "fmodel.compile(optimizer='adam',\n",
        "              loss='binary_crossentropy',\n",
        "              metrics=['accuracy'])\n",
        "\n",
        "#model.summary()\n",
        "\n",
        "## Training the model\n",
        "history = fmodel.fit(fX_train, fy_train, epochs=32, batch_size=32,validation_data=(fX_test,fy_test))\n",
        "loss, accuracy = fmodel.evaluate(fX_train, fy_train, verbose=False)\n",
        "print(\"Training Accuracy: {:.4f}\".format(accuracy))\n",
        "loss, accuracy = fmodel.evaluate(fX_test, fy_test, verbose=False)\n",
        "print(\"Testing Accuracy:  {:.4f}\".format(accuracy))"
      ],
      "execution_count": 0,
      "outputs": [
        {
          "output_type": "stream",
          "text": [
            "Train on 4641 samples, validate on 1161 samples\n",
            "Epoch 1/32\n",
            "4641/4641 [==============================] - 0s 77us/step - loss: 13999.1918 - accuracy: 0.5354 - val_loss: 352.8393 - val_accuracy: 0.4763\n",
            "Epoch 2/32\n",
            "4641/4641 [==============================] - 0s 47us/step - loss: 164.0044 - accuracy: 0.4650 - val_loss: 131.6398 - val_accuracy: 0.4419\n",
            "Epoch 3/32\n",
            "4641/4641 [==============================] - 0s 45us/step - loss: 130.7581 - accuracy: 0.5066 - val_loss: 22.0483 - val_accuracy: 0.5099\n",
            "Epoch 4/32\n",
            "4641/4641 [==============================] - 0s 47us/step - loss: 121.3365 - accuracy: 0.5904 - val_loss: 68.0736 - val_accuracy: 0.5676\n",
            "Epoch 5/32\n",
            "4641/4641 [==============================] - 0s 49us/step - loss: 135.4890 - accuracy: 0.6212 - val_loss: 530.0893 - val_accuracy: 0.6512\n",
            "Epoch 6/32\n",
            "4641/4641 [==============================] - 0s 47us/step - loss: 170.9765 - accuracy: 0.6050 - val_loss: 219.6478 - val_accuracy: 0.5108\n",
            "Epoch 7/32\n",
            "4641/4641 [==============================] - 0s 46us/step - loss: 136.4155 - accuracy: 0.6083 - val_loss: 107.4668 - val_accuracy: 0.6529\n",
            "Epoch 8/32\n",
            "4641/4641 [==============================] - 0s 47us/step - loss: 91.7039 - accuracy: 0.6173 - val_loss: 32.0062 - val_accuracy: 0.6529\n",
            "Epoch 9/32\n",
            "4641/4641 [==============================] - 0s 49us/step - loss: 161.8414 - accuracy: 0.6048 - val_loss: 164.5243 - val_accuracy: 0.5254\n",
            "Epoch 10/32\n",
            "4641/4641 [==============================] - 0s 52us/step - loss: 89.8510 - accuracy: 0.6229 - val_loss: 43.0172 - val_accuracy: 0.5754\n",
            "Epoch 11/32\n",
            "4641/4641 [==============================] - 0s 50us/step - loss: 98.3297 - accuracy: 0.6218 - val_loss: 170.7594 - val_accuracy: 0.5013\n",
            "Epoch 12/32\n",
            "4641/4641 [==============================] - 0s 46us/step - loss: 82.1619 - accuracy: 0.6229 - val_loss: 555.1085 - val_accuracy: 0.4548\n",
            "Epoch 13/32\n",
            "4641/4641 [==============================] - 0s 47us/step - loss: 99.8944 - accuracy: 0.6178 - val_loss: 331.5931 - val_accuracy: 0.4608\n",
            "Epoch 14/32\n",
            "4641/4641 [==============================] - 0s 47us/step - loss: 145.5478 - accuracy: 0.5964 - val_loss: 346.7221 - val_accuracy: 0.4634\n",
            "Epoch 15/32\n",
            "4641/4641 [==============================] - 0s 45us/step - loss: 108.9474 - accuracy: 0.6068 - val_loss: 206.4754 - val_accuracy: 0.6512\n",
            "Epoch 16/32\n",
            "4641/4641 [==============================] - 0s 49us/step - loss: 106.0990 - accuracy: 0.6027 - val_loss: 13.1082 - val_accuracy: 0.6469\n",
            "Epoch 17/32\n",
            "4641/4641 [==============================] - 0s 47us/step - loss: 83.1939 - accuracy: 0.6162 - val_loss: 79.9332 - val_accuracy: 0.6486\n",
            "Epoch 18/32\n",
            "4641/4641 [==============================] - 0s 47us/step - loss: 81.2021 - accuracy: 0.6190 - val_loss: 114.9474 - val_accuracy: 0.6537\n",
            "Epoch 19/32\n",
            "4641/4641 [==============================] - 0s 48us/step - loss: 112.1312 - accuracy: 0.6122 - val_loss: 54.0487 - val_accuracy: 0.5685\n",
            "Epoch 20/32\n",
            "4641/4641 [==============================] - 0s 47us/step - loss: 84.8612 - accuracy: 0.6277 - val_loss: 61.3809 - val_accuracy: 0.6503\n",
            "Epoch 21/32\n",
            "4641/4641 [==============================] - 0s 45us/step - loss: 66.8350 - accuracy: 0.6251 - val_loss: 153.3994 - val_accuracy: 0.6529\n",
            "Epoch 22/32\n",
            "4641/4641 [==============================] - 0s 45us/step - loss: 44.9116 - accuracy: 0.6374 - val_loss: 40.6980 - val_accuracy: 0.6537\n",
            "Epoch 23/32\n",
            "4641/4641 [==============================] - 0s 44us/step - loss: 83.8697 - accuracy: 0.6216 - val_loss: 463.5160 - val_accuracy: 0.4660\n",
            "Epoch 24/32\n",
            "4641/4641 [==============================] - 0s 47us/step - loss: 174.7783 - accuracy: 0.6244 - val_loss: 0.6511 - val_accuracy: 0.6537\n",
            "Epoch 25/32\n",
            "4641/4641 [==============================] - 0s 46us/step - loss: 0.6474 - accuracy: 0.6617 - val_loss: 0.6493 - val_accuracy: 0.6537\n",
            "Epoch 26/32\n",
            "4641/4641 [==============================] - 0s 48us/step - loss: 0.6443 - accuracy: 0.6617 - val_loss: 0.6472 - val_accuracy: 0.6537\n",
            "Epoch 27/32\n",
            "4641/4641 [==============================] - 0s 50us/step - loss: 0.6425 - accuracy: 0.6617 - val_loss: 0.6458 - val_accuracy: 0.6537\n",
            "Epoch 28/32\n",
            "4641/4641 [==============================] - 0s 49us/step - loss: 0.6404 - accuracy: 0.6617 - val_loss: 0.6653 - val_accuracy: 0.6537\n",
            "Epoch 29/32\n",
            "4641/4641 [==============================] - 0s 47us/step - loss: 0.6423 - accuracy: 0.6617 - val_loss: 0.6453 - val_accuracy: 0.6537\n",
            "Epoch 30/32\n",
            "4641/4641 [==============================] - 0s 47us/step - loss: 0.6403 - accuracy: 0.6619 - val_loss: 0.6449 - val_accuracy: 0.6537\n",
            "Epoch 31/32\n",
            "4641/4641 [==============================] - 0s 49us/step - loss: 0.6394 - accuracy: 0.6617 - val_loss: 0.6462 - val_accuracy: 0.6529\n",
            "Epoch 32/32\n",
            "4641/4641 [==============================] - 0s 46us/step - loss: 0.6391 - accuracy: 0.6617 - val_loss: 0.6438 - val_accuracy: 0.6537\n",
            "Training Accuracy: 0.6617\n",
            "Testing Accuracy:  0.6537\n"
          ],
          "name": "stdout"
        }
      ]
    },
    {
      "cell_type": "markdown",
      "metadata": {
        "id": "q7qMkhTfA5Ny",
        "colab_type": "text"
      },
      "source": [
        "## Combining the Results of both the models."
      ]
    },
    {
      "cell_type": "code",
      "metadata": {
        "id": "rOKWX7SMTSk6",
        "colab_type": "code",
        "colab": {}
      },
      "source": [
        "### Converts model output to list\n",
        "def tolist(output):\n",
        "    List = []\n",
        "    for out in output:\n",
        "        v = list(out)\n",
        "        List.append(v[0])\n",
        "    return List"
      ],
      "execution_count": 0,
      "outputs": []
    },
    {
      "cell_type": "code",
      "metadata": {
        "id": "ZMwMVL2YkHSR",
        "colab_type": "code",
        "colab": {
          "base_uri": "https://localhost:8080/",
          "height": 231
        },
        "outputId": "46cadec2-58ec-4100-bbc0-b9f807bbddd0"
      },
      "source": [
        "text_out = tolist(list((model_text.predict(train_vecs) > 0.5).astype(int)))\n",
        "feat_out = tolist(list((fmodel.predict(fX_train) > 0.5).astype(int)))\n",
        "nX_train = np.array([text_out,feat_out]).T\n",
        "\n",
        "text_out = tolist(list((model_text.predict(test_vecs) > 0.5).astype(int)))\n",
        "feat_out = tolist(list((fmodel.predict(fX_test) > 0.5).astype(int)))\n",
        "nX_test = np.array([text_out,feat_out]).T\n",
        "\n",
        "nY_train = y_train\n",
        "nY_test = y_test"
      ],
      "execution_count": 10,
      "outputs": [
        {
          "output_type": "error",
          "ename": "NameError",
          "evalue": "ignored",
          "traceback": [
            "\u001b[0;31m---------------------------------------------------------------------------\u001b[0m",
            "\u001b[0;31mNameError\u001b[0m                                 Traceback (most recent call last)",
            "\u001b[0;32m<ipython-input-10-b5625db2374e>\u001b[0m in \u001b[0;36m<module>\u001b[0;34m()\u001b[0m\n\u001b[1;32m      7\u001b[0m \u001b[0;34m\u001b[0m\u001b[0m\n\u001b[1;32m      8\u001b[0m \u001b[0mtext_out\u001b[0m \u001b[0;34m=\u001b[0m \u001b[0mtolist\u001b[0m\u001b[0;34m(\u001b[0m\u001b[0mlist\u001b[0m\u001b[0;34m(\u001b[0m\u001b[0;34m(\u001b[0m\u001b[0mmodel_text\u001b[0m\u001b[0;34m.\u001b[0m\u001b[0mpredict\u001b[0m\u001b[0;34m(\u001b[0m\u001b[0mtrain_vecs\u001b[0m\u001b[0;34m)\u001b[0m \u001b[0;34m>\u001b[0m \u001b[0;36m0.5\u001b[0m\u001b[0;34m)\u001b[0m\u001b[0;34m.\u001b[0m\u001b[0mastype\u001b[0m\u001b[0;34m(\u001b[0m\u001b[0mint\u001b[0m\u001b[0;34m)\u001b[0m\u001b[0;34m)\u001b[0m\u001b[0;34m)\u001b[0m\u001b[0;34m\u001b[0m\u001b[0;34m\u001b[0m\u001b[0m\n\u001b[0;32m----> 9\u001b[0;31m \u001b[0mfeat_out\u001b[0m \u001b[0;34m=\u001b[0m \u001b[0mtolist\u001b[0m\u001b[0;34m(\u001b[0m\u001b[0mlist\u001b[0m\u001b[0;34m(\u001b[0m\u001b[0;34m(\u001b[0m\u001b[0mfmodel\u001b[0m\u001b[0;34m.\u001b[0m\u001b[0mpredict\u001b[0m\u001b[0;34m(\u001b[0m\u001b[0mfX_train\u001b[0m\u001b[0;34m)\u001b[0m \u001b[0;34m>\u001b[0m \u001b[0;36m0.5\u001b[0m\u001b[0;34m)\u001b[0m\u001b[0;34m.\u001b[0m\u001b[0mastype\u001b[0m\u001b[0;34m(\u001b[0m\u001b[0mint\u001b[0m\u001b[0;34m)\u001b[0m\u001b[0;34m)\u001b[0m\u001b[0;34m)\u001b[0m\u001b[0;34m\u001b[0m\u001b[0;34m\u001b[0m\u001b[0m\n\u001b[0m\u001b[1;32m     10\u001b[0m \u001b[0mnX_train\u001b[0m \u001b[0;34m=\u001b[0m \u001b[0mnp\u001b[0m\u001b[0;34m.\u001b[0m\u001b[0marray\u001b[0m\u001b[0;34m(\u001b[0m\u001b[0;34m[\u001b[0m\u001b[0mtext_out\u001b[0m\u001b[0;34m,\u001b[0m\u001b[0mfeat_out\u001b[0m\u001b[0;34m]\u001b[0m\u001b[0;34m)\u001b[0m\u001b[0;34m.\u001b[0m\u001b[0mT\u001b[0m\u001b[0;34m\u001b[0m\u001b[0;34m\u001b[0m\u001b[0m\n\u001b[1;32m     11\u001b[0m \u001b[0;34m\u001b[0m\u001b[0m\n",
            "\u001b[0;31mNameError\u001b[0m: name 'fmodel' is not defined"
          ]
        }
      ]
    },
    {
      "cell_type": "code",
      "metadata": {
        "id": "HOgLFpZXESbV",
        "colab_type": "code",
        "outputId": "f956d902-2cd7-4970-8c2d-03aba5c27cb1",
        "colab": {
          "base_uri": "https://localhost:8080/",
          "height": 1000
        }
      },
      "source": [
        "### Combining Model ###\n",
        "\n",
        "nmodel = Sequential()\n",
        "nmodel.add(Dense(10, activation='tanh', input_dim=2))\n",
        "nmodel.add(Dense(20, activation='sigmoid'))\n",
        "nmodel.add(Dense(5, activation='sigmoid'))\n",
        "nmodel.add(Dense(1, activation='sigmoid'))\n",
        "nmodel.compile(optimizer='adam',\n",
        "              loss='binary_crossentropy',\n",
        "              metrics=['accuracy'])\n",
        "\n",
        "## Training the model\n",
        "history = nmodel.fit(nX_train, nY_train, epochs=32, batch_size=128,validation_data=(nX_test,nY_test))\n",
        "loss, accuracy = nmodel.evaluate(nX_train, nY_train, verbose=False)\n",
        "print(\"Training Accuracy: {:.4f}\".format(accuracy))\n",
        "loss, accuracy = nmodel.evaluate(nX_test, nY_test, verbose=False)\n",
        "print(\"Testing Accuracy:  {:.4f}\".format(accuracy))"
      ],
      "execution_count": 0,
      "outputs": [
        {
          "output_type": "stream",
          "text": [
            "Train on 4641 samples, validate on 1161 samples\n",
            "Epoch 1/32\n",
            "4641/4641 [==============================] - 0s 43us/step - loss: 0.6387 - accuracy: 0.6617 - val_loss: 0.6394 - val_accuracy: 0.6537\n",
            "Epoch 2/32\n",
            "4641/4641 [==============================] - 0s 14us/step - loss: 0.6291 - accuracy: 0.6617 - val_loss: 0.6314 - val_accuracy: 0.6537\n",
            "Epoch 3/32\n",
            "4641/4641 [==============================] - 0s 14us/step - loss: 0.6186 - accuracy: 0.6617 - val_loss: 0.6206 - val_accuracy: 0.6537\n",
            "Epoch 4/32\n",
            "4641/4641 [==============================] - 0s 15us/step - loss: 0.6044 - accuracy: 0.6617 - val_loss: 0.6060 - val_accuracy: 0.6537\n",
            "Epoch 5/32\n",
            "4641/4641 [==============================] - 0s 14us/step - loss: 0.5852 - accuracy: 0.6617 - val_loss: 0.5868 - val_accuracy: 0.6537\n",
            "Epoch 6/32\n",
            "4641/4641 [==============================] - 0s 18us/step - loss: 0.5621 - accuracy: 0.6617 - val_loss: 0.5665 - val_accuracy: 0.6537\n",
            "Epoch 7/32\n",
            "4641/4641 [==============================] - 0s 14us/step - loss: 0.5398 - accuracy: 0.7220 - val_loss: 0.5488 - val_accuracy: 0.7321\n",
            "Epoch 8/32\n",
            "4641/4641 [==============================] - 0s 13us/step - loss: 0.5226 - accuracy: 0.7574 - val_loss: 0.5379 - val_accuracy: 0.7562\n",
            "Epoch 9/32\n",
            "4641/4641 [==============================] - 0s 13us/step - loss: 0.5125 - accuracy: 0.7727 - val_loss: 0.5333 - val_accuracy: 0.7562\n",
            "Epoch 10/32\n",
            "4641/4641 [==============================] - 0s 14us/step - loss: 0.5081 - accuracy: 0.7727 - val_loss: 0.5316 - val_accuracy: 0.7562\n",
            "Epoch 11/32\n",
            "4641/4641 [==============================] - 0s 14us/step - loss: 0.5064 - accuracy: 0.7727 - val_loss: 0.5314 - val_accuracy: 0.7562\n",
            "Epoch 12/32\n",
            "4641/4641 [==============================] - 0s 17us/step - loss: 0.5056 - accuracy: 0.7727 - val_loss: 0.5315 - val_accuracy: 0.7562\n",
            "Epoch 13/32\n",
            "4641/4641 [==============================] - 0s 16us/step - loss: 0.5055 - accuracy: 0.7727 - val_loss: 0.5317 - val_accuracy: 0.7562\n",
            "Epoch 14/32\n",
            "4641/4641 [==============================] - 0s 14us/step - loss: 0.5054 - accuracy: 0.7727 - val_loss: 0.5318 - val_accuracy: 0.7562\n",
            "Epoch 15/32\n",
            "4641/4641 [==============================] - 0s 14us/step - loss: 0.5053 - accuracy: 0.7727 - val_loss: 0.5320 - val_accuracy: 0.7562\n",
            "Epoch 16/32\n",
            "4641/4641 [==============================] - 0s 15us/step - loss: 0.5052 - accuracy: 0.7727 - val_loss: 0.5322 - val_accuracy: 0.7562\n",
            "Epoch 17/32\n",
            "4641/4641 [==============================] - 0s 15us/step - loss: 0.5051 - accuracy: 0.7727 - val_loss: 0.5322 - val_accuracy: 0.7562\n",
            "Epoch 18/32\n",
            "4641/4641 [==============================] - 0s 14us/step - loss: 0.5053 - accuracy: 0.7727 - val_loss: 0.5322 - val_accuracy: 0.7562\n",
            "Epoch 19/32\n",
            "4641/4641 [==============================] - 0s 13us/step - loss: 0.5051 - accuracy: 0.7727 - val_loss: 0.5323 - val_accuracy: 0.7562\n",
            "Epoch 20/32\n",
            "4641/4641 [==============================] - 0s 13us/step - loss: 0.5054 - accuracy: 0.7727 - val_loss: 0.5326 - val_accuracy: 0.7562\n",
            "Epoch 21/32\n",
            "4641/4641 [==============================] - 0s 17us/step - loss: 0.5052 - accuracy: 0.7727 - val_loss: 0.5326 - val_accuracy: 0.7562\n",
            "Epoch 22/32\n",
            "4641/4641 [==============================] - 0s 16us/step - loss: 0.5051 - accuracy: 0.7727 - val_loss: 0.5323 - val_accuracy: 0.7562\n",
            "Epoch 23/32\n",
            "4641/4641 [==============================] - 0s 14us/step - loss: 0.5051 - accuracy: 0.7727 - val_loss: 0.5326 - val_accuracy: 0.7562\n",
            "Epoch 24/32\n",
            "4641/4641 [==============================] - 0s 13us/step - loss: 0.5051 - accuracy: 0.7727 - val_loss: 0.5326 - val_accuracy: 0.7562\n",
            "Epoch 25/32\n",
            "4641/4641 [==============================] - 0s 13us/step - loss: 0.5050 - accuracy: 0.7727 - val_loss: 0.5324 - val_accuracy: 0.7562\n",
            "Epoch 26/32\n",
            "4641/4641 [==============================] - 0s 13us/step - loss: 0.5051 - accuracy: 0.7727 - val_loss: 0.5325 - val_accuracy: 0.7562\n",
            "Epoch 27/32\n",
            "4641/4641 [==============================] - 0s 13us/step - loss: 0.5052 - accuracy: 0.7727 - val_loss: 0.5325 - val_accuracy: 0.7562\n",
            "Epoch 28/32\n",
            "4641/4641 [==============================] - 0s 15us/step - loss: 0.5051 - accuracy: 0.7727 - val_loss: 0.5327 - val_accuracy: 0.7562\n",
            "Epoch 29/32\n",
            "4641/4641 [==============================] - 0s 13us/step - loss: 0.5050 - accuracy: 0.7727 - val_loss: 0.5325 - val_accuracy: 0.7562\n",
            "Epoch 30/32\n",
            "4641/4641 [==============================] - 0s 15us/step - loss: 0.5052 - accuracy: 0.7727 - val_loss: 0.5328 - val_accuracy: 0.7562\n",
            "Epoch 31/32\n",
            "4641/4641 [==============================] - 0s 13us/step - loss: 0.5051 - accuracy: 0.7727 - val_loss: 0.5327 - val_accuracy: 0.7562\n",
            "Epoch 32/32\n",
            "4641/4641 [==============================] - 0s 19us/step - loss: 0.5052 - accuracy: 0.7727 - val_loss: 0.5328 - val_accuracy: 0.7562\n",
            "Training Accuracy: 0.7727\n",
            "Testing Accuracy:  0.7562\n"
          ],
          "name": "stdout"
        }
      ]
    },
    {
      "cell_type": "markdown",
      "metadata": {
        "id": "2FB9eZ2GKnNL",
        "colab_type": "text"
      },
      "source": [
        "This result indicates that rumour have huge depends on the content of the rumour and very little depends on other factors around the rumours such as features that have been consided here. This can be seem from the fact the accuray did not increase any furthur than it did from text model."
      ]
    },
    {
      "cell_type": "markdown",
      "metadata": {
        "id": "tdod3rjtR-K7",
        "colab_type": "text"
      },
      "source": [
        "## Performance Measure\n"
      ]
    },
    {
      "cell_type": "code",
      "metadata": {
        "id": "VbPTHH37SCCA",
        "colab_type": "code",
        "colab": {
          "base_uri": "https://localhost:8080/",
          "height": 102
        },
        "outputId": "2bb3da72-dc94-4d28-cf9b-92bd5e6aafe8"
      },
      "source": [
        "## Model Output\n",
        "predicted = tolist(list((model_text.predict(test_vecs) > 0.5).astype(int)))\n",
        "expected = y_test\n",
        "\n",
        "## Model Performances\n",
        "recall = recall_score(expected, predicted, average='macro')\n",
        "precision = precision_score(expected, predicted, average='macro')\n",
        "accuracy = accuracy_score(expected, predicted)\n",
        "f1 = f1_score(expected, predicted, average='macro')\n",
        "recall = recall_score(expected, predicted, average='macro')\n",
        "\n",
        "## Printing them out\n",
        "print(\"Performance\")\n",
        "print(\"Accuracy:\",accuracy,\"\\nPrecision:\",precision,\"\\nF1-Score:\",f1,\"\\nRecall:\",recall)"
      ],
      "execution_count": 17,
      "outputs": [
        {
          "output_type": "stream",
          "text": [
            "Performance\n",
            "Accuracy: 0.7571059431524548 \n",
            "Precision: 0.7321023223328095 \n",
            "F1-Score: 0.7335803843449731 \n",
            "Recall: 0.7352516075747744\n"
          ],
          "name": "stdout"
        }
      ]
    },
    {
      "cell_type": "markdown",
      "metadata": {
        "id": "x9JJM6ACSC2j",
        "colab_type": "text"
      },
      "source": [
        "## Live Detection"
      ]
    },
    {
      "cell_type": "code",
      "metadata": {
        "id": "csbmOMAFSJjy",
        "colab_type": "code",
        "colab": {
          "base_uri": "https://localhost:8080/",
          "height": 85
        },
        "outputId": "97158d8c-dcf6-40d0-c17e-ca2e9cbe1512"
      },
      "source": [
        "def Romour_Test(tweet):\n",
        "    \n",
        "    ### Creating a word vector\n",
        "    sents = []\n",
        "    words = tokenizer.tokenize(tweet)\n",
        "    words = [lemma.lemmatize(word) for word in words if word not in puntuation and word not in stop_words and \"http\" not in word and not word.startswith('/')]\n",
        "    words = list(set(words))\n",
        "    sents.append(words)\n",
        "\n",
        "    vecs = np.concatenate([buildWordVector(z, 100) for z in map(lambda x: x, sents)])\n",
        "    vecs = scale(vecs)\n",
        "    vecs = vecs.reshape(1,100)\n",
        "\n",
        "    pred = tolist(list((model_text.predict(vecs) > 0.5).astype(int)))[0]\n",
        "    if pred == 1:\n",
        "        print(\"Romour!\")\n",
        "    else:\n",
        "        print(\"Not a Romour!\")\n",
        "\n",
        "print(\"The Model runs at 75% accuracy!\\nNOte: More data related to tweet, better the model works. Lesser the data, the performance decrease.\\n\")\n",
        "Romour_Test(\"The sun rised from north. which is very funny\")"
      ],
      "execution_count": 56,
      "outputs": [
        {
          "output_type": "stream",
          "text": [
            "The Model runs at 75% accuracy!\n",
            "NOte: More data related to tweet, better the model works. Lesser the data, the performance decrease.\n",
            "\n",
            "Romour!\n"
          ],
          "name": "stdout"
        }
      ]
    },
    {
      "cell_type": "code",
      "metadata": {
        "id": "Vi8gIx-bcgxP",
        "colab_type": "code",
        "colab": {
          "base_uri": "https://localhost:8080/",
          "height": 51
        },
        "outputId": "ed02bccb-021b-48f3-8d17-d1cfe9abe2a5"
      },
      "source": [
        "#Sample test Cases\n",
        "Romour_Test(\"World will end today.\")\n",
        "Romour_Test(\"The sun rises from east.\")"
      ],
      "execution_count": 53,
      "outputs": [
        {
          "output_type": "stream",
          "text": [
            "Romour!\n",
            "Not a Romour!\n"
          ],
          "name": "stdout"
        }
      ]
    }
  ]
}